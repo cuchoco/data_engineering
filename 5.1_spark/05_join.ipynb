{
 "cells": [
  {
   "cell_type": "code",
   "execution_count": 1,
   "metadata": {},
   "outputs": [
    {
     "name": "stderr",
     "output_type": "stream",
     "text": [
      "22/07/23 17:42:08 WARN Utils: Your hostname, kuchoco-GP62-6QE resolves to a loopback address: 127.0.1.1; using 192.168.219.113 instead (on interface wlp2s0)\n",
      "22/07/23 17:42:08 WARN Utils: Set SPARK_LOCAL_IP if you need to bind to another address\n",
      "WARNING: An illegal reflective access operation has occurred\n",
      "WARNING: Illegal reflective access by org.apache.spark.unsafe.Platform (file:/home/kuchoco/spark/spark-3.0.3-bin-hadoop3.2/jars/spark-unsafe_2.12-3.0.3.jar) to constructor java.nio.DirectByteBuffer(long,int)\n",
      "WARNING: Please consider reporting this to the maintainers of org.apache.spark.unsafe.Platform\n",
      "WARNING: Use --illegal-access=warn to enable warnings of further illegal reflective access operations\n",
      "WARNING: All illegal access operations will be denied in a future release\n",
      "22/07/23 17:42:09 WARN NativeCodeLoader: Unable to load native-hadoop library for your platform... using builtin-java classes where applicable\n",
      "Using Spark's default log4j profile: org/apache/spark/log4j-defaults.properties\n",
      "Setting default log level to \"WARN\".\n",
      "To adjust logging level use sc.setLogLevel(newLevel). For SparkR, use setLogLevel(newLevel).\n",
      "22/07/23 17:42:10 WARN Utils: Service 'SparkUI' could not bind on port 4040. Attempting port 4041.\n"
     ]
    }
   ],
   "source": [
    "import pyspark\n",
    "from pyspark.sql import SparkSession\n",
    "\n",
    "spark = SparkSession.builder.master(\"local[*]\").appName('test').getOrCreate()"
   ]
  },
  {
   "cell_type": "code",
   "execution_count": 5,
   "metadata": {},
   "outputs": [],
   "source": [
    "df_green = spark.read.parquet('data/report/green/*.parquet')\n",
    "df_green.registerTempTable('green')\n",
    "\n",
    "df_yellow = spark.read.parquet('data/report/yellow/*.parquet')\n",
    "df_yellow.registerTempTable('yellow')"
   ]
  },
  {
   "cell_type": "code",
   "execution_count": 13,
   "metadata": {},
   "outputs": [],
   "source": [
    "df_green_tmp = df_green\\\n",
    "    .withColumnRenamed('amount', 'green_amount')\\\n",
    "    .withColumnRenamed('number_records', 'green_number_records')\n",
    "\n",
    "df_yellow_tmp = df_yellow\\\n",
    "    .withColumnRenamed('amount', 'yellow_amount')\\\n",
    "    .withColumnRenamed('number_records', 'yellow_number_records')"
   ]
  },
  {
   "cell_type": "markdown",
   "metadata": {},
   "source": [
    "## Join Two large table\n",
    "- green and yellow taxi-trip data"
   ]
  },
  {
   "cell_type": "code",
   "execution_count": 15,
   "metadata": {},
   "outputs": [],
   "source": [
    "df_join = df_green_tmp.join(df_yellow_tmp, on=['hour', 'zone'], how='outer')"
   ]
  },
  {
   "cell_type": "code",
   "execution_count": 16,
   "metadata": {},
   "outputs": [
    {
     "name": "stderr",
     "output_type": "stream",
     "text": [
      "[Stage 17:================>                                         (2 + 5) / 7]\r"
     ]
    },
    {
     "name": "stdout",
     "output_type": "stream",
     "text": [
      "+-------------------+----+------------------+--------------------+------------------+---------------------+\n",
      "|               hour|zone|      green_amount|green_number_records|     yellow_amount|yellow_number_records|\n",
      "+-------------------+----+------------------+--------------------+------------------+---------------------+\n",
      "|2020-01-01 00:00:00| 141|              null|                null|             15.96|                    1|\n",
      "|2020-01-01 10:00:00|  24|126.41999999999999|                   6| 783.8999999999999|                   44|\n",
      "|2020-01-01 10:00:00| 242|             30.94|                   2|              null|                 null|\n",
      "|2020-01-01 13:00:00| 202|              null|                null|              42.1|                    2|\n",
      "|2020-01-01 14:00:00|  71|              null|                null|             49.71|                    1|\n",
      "|2020-01-01 14:00:00| 244|             25.26|                   2|185.17000000000004|                   17|\n",
      "|2020-01-01 16:00:00|  48|              null|                null|           2857.21|                  120|\n",
      "|2020-01-01 16:00:00| 112|             66.76|                   3|              57.3|                    1|\n",
      "|2020-01-01 16:00:00| 179|              null|                null|            119.05|                    7|\n",
      "|2020-01-01 18:00:00|  93|              null|                null|287.46000000000004|                    4|\n",
      "|2020-01-01 19:00:00| 169|              6.12|                   1|              19.1|                    2|\n",
      "|2020-01-01 20:00:00| 193|              14.3|                   2|            105.66|                    4|\n",
      "|2020-01-02 00:00:00|  25|            192.12|                  11|             14.52|                    1|\n",
      "|2020-01-02 04:00:00| 196|36.400000000000006|                   3|             152.8|                    2|\n",
      "|2020-01-02 06:00:00| 157|              null|                null|             61.42|                    1|\n",
      "|2020-01-02 12:00:00| 143|              null|                null| 82.77999999999999|                    4|\n",
      "|2020-01-02 13:00:00| 262|              null|                null|159.72000000000003|                    6|\n",
      "|2020-01-02 16:00:00| 241|176.26999999999998|                   4|             30.48|                    1|\n",
      "|2020-01-02 17:00:00| 217|              49.9|                   2|              20.3|                    1|\n",
      "|2020-01-02 19:00:00| 131|            186.32|                   8|             47.69|                    1|\n",
      "+-------------------+----+------------------+--------------------+------------------+---------------------+\n",
      "only showing top 20 rows\n",
      "\n"
     ]
    },
    {
     "name": "stderr",
     "output_type": "stream",
     "text": [
      "                                                                                \r"
     ]
    }
   ],
   "source": [
    "df_join.show()"
   ]
  },
  {
   "cell_type": "code",
   "execution_count": 17,
   "metadata": {},
   "outputs": [
    {
     "name": "stderr",
     "output_type": "stream",
     "text": [
      "                                                                                \r"
     ]
    }
   ],
   "source": [
    "df_join.write.parquet('data/report/total', mode='overwrite')"
   ]
  },
  {
   "cell_type": "markdown",
   "metadata": {},
   "source": [
    "## Join one large table and one small table\n",
    "- taxi-trips and zones\n",
    "\n",
    "no shuffling because zone data distributed to executors"
   ]
  },
  {
   "cell_type": "code",
   "execution_count": 18,
   "metadata": {},
   "outputs": [],
   "source": [
    "df_zones = spark.read.parquet('zones/')"
   ]
  },
  {
   "cell_type": "code",
   "execution_count": 20,
   "metadata": {},
   "outputs": [
    {
     "name": "stdout",
     "output_type": "stream",
     "text": [
      "+----------+-------------+--------------------+------------+\n",
      "|locationid|      borough|                zone|service_zone|\n",
      "+----------+-------------+--------------------+------------+\n",
      "|         1|          EWR|      Newark Airport|         EWR|\n",
      "|         2|       Queens|         Jamaica Bay|   Boro Zone|\n",
      "|         3|        Bronx|Allerton/Pelham G...|   Boro Zone|\n",
      "|         4|    Manhattan|       Alphabet City| Yellow Zone|\n",
      "|         5|Staten Island|       Arden Heights|   Boro Zone|\n",
      "|         6|Staten Island|Arrochar/Fort Wad...|   Boro Zone|\n",
      "|         7|       Queens|             Astoria|   Boro Zone|\n",
      "|         8|       Queens|        Astoria Park|   Boro Zone|\n",
      "|         9|       Queens|          Auburndale|   Boro Zone|\n",
      "|        10|       Queens|        Baisley Park|   Boro Zone|\n",
      "|        11|     Brooklyn|          Bath Beach|   Boro Zone|\n",
      "|        12|    Manhattan|        Battery Park| Yellow Zone|\n",
      "|        13|    Manhattan|   Battery Park City| Yellow Zone|\n",
      "|        14|     Brooklyn|           Bay Ridge|   Boro Zone|\n",
      "|        15|       Queens|Bay Terrace/Fort ...|   Boro Zone|\n",
      "|        16|       Queens|             Bayside|   Boro Zone|\n",
      "|        17|     Brooklyn|             Bedford|   Boro Zone|\n",
      "|        18|        Bronx|        Bedford Park|   Boro Zone|\n",
      "|        19|       Queens|           Bellerose|   Boro Zone|\n",
      "|        20|        Bronx|             Belmont|   Boro Zone|\n",
      "+----------+-------------+--------------------+------------+\n",
      "only showing top 20 rows\n",
      "\n"
     ]
    }
   ],
   "source": [
    "df_zones.show()"
   ]
  },
  {
   "cell_type": "code",
   "execution_count": 23,
   "metadata": {},
   "outputs": [],
   "source": [
    "df_result = df_join.join(df_zones, df_join.zone == df_zones.locationid)"
   ]
  },
  {
   "cell_type": "code",
   "execution_count": 39,
   "metadata": {},
   "outputs": [
    {
     "name": "stdout",
     "output_type": "stream",
     "text": [
      "+-------------------+----+------------------+--------------------+------------------+---------------------+----------+---------+--------------------+------------+\n",
      "|               hour|zone|      green_amount|green_number_records|     yellow_amount|yellow_number_records|locationid|  borough|                zone|service_zone|\n",
      "+-------------------+----+------------------+--------------------+------------------+---------------------+----------+---------+--------------------+------------+\n",
      "|2020-01-01 00:00:00| 141|              null|                null|             15.96|                    1|       141|Manhattan|     Lenox Hill West| Yellow Zone|\n",
      "|2020-01-01 10:00:00|  24|126.41999999999999|                   6| 783.8999999999999|                   44|        24|Manhattan|        Bloomingdale| Yellow Zone|\n",
      "|2020-01-01 10:00:00| 242|             30.94|                   2|              null|                 null|       242|    Bronx|Van Nest/Morris Park|   Boro Zone|\n",
      "|2020-01-01 13:00:00| 202|              null|                null|              42.1|                    2|       202|Manhattan|    Roosevelt Island|   Boro Zone|\n",
      "|2020-01-01 14:00:00|  71|              null|                null|             49.71|                    1|        71| Brooklyn|East Flatbush/Far...|   Boro Zone|\n",
      "|2020-01-01 14:00:00| 244|             25.26|                   2|185.17000000000004|                   17|       244|Manhattan|Washington Height...|   Boro Zone|\n",
      "|2020-01-01 16:00:00|  48|              null|                null|           2857.21|                  120|        48|Manhattan|        Clinton East| Yellow Zone|\n",
      "|2020-01-01 16:00:00| 112|             66.76|                   3|              57.3|                    1|       112| Brooklyn|          Greenpoint|   Boro Zone|\n",
      "|2020-01-01 16:00:00| 179|              null|                null|            119.05|                    7|       179|   Queens|         Old Astoria|   Boro Zone|\n",
      "|2020-01-01 18:00:00|  93|              null|                null|287.46000000000004|                    4|        93|   Queens|Flushing Meadows-...|   Boro Zone|\n",
      "+-------------------+----+------------------+--------------------+------------------+---------------------+----------+---------+--------------------+------------+\n",
      "only showing top 10 rows\n",
      "\n"
     ]
    }
   ],
   "source": [
    "df_result.show(10)"
   ]
  },
  {
   "cell_type": "code",
   "execution_count": 35,
   "metadata": {},
   "outputs": [
    {
     "name": "stderr",
     "output_type": "stream",
     "text": [
      "22/07/23 19:05:40 WARN MemoryManager: Total allocation exceeds 95.00% (1,020,054,720 bytes) of heap memory\n",
      "Scaling row group sizes to 95.00% for 8 writers\n",
      "                                                                                \r"
     ]
    }
   ],
   "source": [
    "# drop zone column(int) and save\n",
    "df_result.drop(df_join.zone).repartition(10).write.parquet('tmp/revenue-zones/', mode ='overwrite')"
   ]
  },
  {
   "cell_type": "code",
   "execution_count": null,
   "metadata": {},
   "outputs": [],
   "source": []
  },
  {
   "cell_type": "code",
   "execution_count": null,
   "metadata": {},
   "outputs": [],
   "source": []
  },
  {
   "cell_type": "code",
   "execution_count": null,
   "metadata": {},
   "outputs": [],
   "source": []
  },
  {
   "cell_type": "code",
   "execution_count": null,
   "metadata": {},
   "outputs": [],
   "source": []
  },
  {
   "cell_type": "code",
   "execution_count": null,
   "metadata": {},
   "outputs": [],
   "source": []
  }
 ],
 "metadata": {
  "kernelspec": {
   "display_name": "Python 3.8.10 64-bit",
   "language": "python",
   "name": "python3"
  },
  "language_info": {
   "codemirror_mode": {
    "name": "ipython",
    "version": 3
   },
   "file_extension": ".py",
   "mimetype": "text/x-python",
   "name": "python",
   "nbconvert_exporter": "python",
   "pygments_lexer": "ipython3",
   "version": "3.8.10"
  },
  "orig_nbformat": 4,
  "vscode": {
   "interpreter": {
    "hash": "31f2aee4e71d21fbe5cf8b01ff0e069b9275f58929596ceb00d14d90e3e16cd6"
   }
  }
 },
 "nbformat": 4,
 "nbformat_minor": 2
}
