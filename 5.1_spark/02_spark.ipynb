{
 "cells": [
  {
   "cell_type": "code",
   "execution_count": 1,
   "id": "83c85932-1726-44fc-9153-a91d62ef7d4e",
   "metadata": {},
   "outputs": [],
   "source": [
    "import pyspark\n",
    "from pyspark.sql import SparkSession"
   ]
  },
  {
   "cell_type": "code",
   "execution_count": 2,
   "id": "fe2e549f-70b7-4590-9b43-0dd3e9929388",
   "metadata": {},
   "outputs": [
    {
     "name": "stderr",
     "output_type": "stream",
     "text": [
      "22/07/21 22:58:41 WARN Utils: Your hostname, kuchoco-GP62-6QE resolves to a loopback address: 127.0.1.1; using 192.168.219.113 instead (on interface wlp2s0)\n",
      "22/07/21 22:58:41 WARN Utils: Set SPARK_LOCAL_IP if you need to bind to another address\n",
      "WARNING: An illegal reflective access operation has occurred\n",
      "WARNING: Illegal reflective access by org.apache.spark.unsafe.Platform (file:/home/kuchoco/spark/spark-3.0.3-bin-hadoop3.2/jars/spark-unsafe_2.12-3.0.3.jar) to constructor java.nio.DirectByteBuffer(long,int)\n",
      "WARNING: Please consider reporting this to the maintainers of org.apache.spark.unsafe.Platform\n",
      "WARNING: Use --illegal-access=warn to enable warnings of further illegal reflective access operations\n",
      "WARNING: All illegal access operations will be denied in a future release\n",
      "22/07/21 22:58:41 WARN NativeCodeLoader: Unable to load native-hadoop library for your platform... using builtin-java classes where applicable\n",
      "Using Spark's default log4j profile: org/apache/spark/log4j-defaults.properties\n",
      "Setting default log level to \"WARN\".\n",
      "To adjust logging level use sc.setLogLevel(newLevel). For SparkR, use setLogLevel(newLevel).\n"
     ]
    }
   ],
   "source": [
    "spark = SparkSession.builder.master(\"local[*]\").appName('test').getOrCreate()"
   ]
  },
  {
   "cell_type": "code",
   "execution_count": 4,
   "id": "bbeb24eb-a331-497e-85f3-df9ef757f25e",
   "metadata": {},
   "outputs": [
    {
     "name": "stdout",
     "output_type": "stream",
     "text": [
      "--2022-07-21 22:22:11--  https://d37ci6vzurychx.cloudfront.net/trip-data/fhvhv_tripdata_2021-01.parquet\n",
      "Resolving d37ci6vzurychx.cloudfront.net (d37ci6vzurychx.cloudfront.net)... 52.85.39.153, 52.85.39.97, 52.85.39.117, ...\n",
      "Connecting to d37ci6vzurychx.cloudfront.net (d37ci6vzurychx.cloudfront.net)|52.85.39.153|:443... connected.\n",
      "HTTP request sent, awaiting response... 200 OK\n",
      "Length: 308924937 (295M) [application/x-www-form-urlencoded]\n",
      "Saving to: ‘fhvhv_tripdata_2021-01.parquet’\n",
      "\n",
      "fhvhv_tripdata_2021 100%[===================>] 294.61M   598KB/s    in 3m 0s   \n",
      "\n",
      "2022-07-21 22:25:12 (1.64 MB/s) - ‘fhvhv_tripdata_2021-01.parquet’ saved [308924937/308924937]\n",
      "\n"
     ]
    }
   ],
   "source": [
    "# !wget https://d37ci6vzurychx.cloudfront.net/trip-data/fhvhv_tripdata_2021-01.parquet"
   ]
  },
  {
   "cell_type": "code",
   "execution_count": 5,
   "id": "33e9678f-3395-4090-b3fc-41e373496036",
   "metadata": {},
   "outputs": [
    {
     "name": "stdout",
     "output_type": "stream",
     "text": [
      "1006794 fhvhv_tripdata_2021-01.parquet\n"
     ]
    }
   ],
   "source": [
    "# !wc -l fhvhv_tripdata_2021-01.parquet"
   ]
  },
  {
   "cell_type": "code",
   "execution_count": 3,
   "id": "fdc09cee-a1d4-4ccf-874f-a08a5062b005",
   "metadata": {},
   "outputs": [],
   "source": [
    "df = spark.read.parquet(\"fhvhv_tripdata_2021-01.parquet\")"
   ]
  },
  {
   "cell_type": "code",
   "execution_count": 21,
   "id": "3147df22-4e45-4b2f-b4c7-b542e9825fec",
   "metadata": {},
   "outputs": [
    {
     "name": "stdout",
     "output_type": "stream",
     "text": [
      "StructType(List(StructField(hvfhs_license_num,StringType,true),StructField(dispatching_base_num,StringType,true),StructField(originating_base_num,StringType,true),StructField(request_datetime,TimestampType,true),StructField(on_scene_datetime,TimestampType,true),StructField(pickup_datetime,TimestampType,true),StructField(dropoff_datetime,TimestampType,true),StructField(PULocationID,LongType,true),StructField(DOLocationID,LongType,true),StructField(trip_miles,DoubleType,true),StructField(trip_time,LongType,true),StructField(base_passenger_fare,DoubleType,true),StructField(tolls,DoubleType,true),StructField(bcf,DoubleType,true),StructField(sales_tax,DoubleType,true),StructField(congestion_surcharge,DoubleType,true),StructField(airport_fee,DoubleType,true),StructField(tips,DoubleType,true),StructField(driver_pay,DoubleType,true),StructField(shared_request_flag,StringType,true),StructField(shared_match_flag,StringType,true),StructField(access_a_ride_flag,StringType,true),StructField(wav_request_flag,StringType,true),StructField(wav_match_flag,StringType,true)))\n"
     ]
    }
   ],
   "source": [
    "print(df.schema)"
   ]
  },
  {
   "cell_type": "code",
   "execution_count": null,
   "id": "94126c34-a70e-4d61-a7d6-9eab22fb42a9",
   "metadata": {},
   "outputs": [],
   "source": [
    "import pandas as pd\n",
    "pandas_df = pd.read_parquet('fhvhv_tripdata_2021-01.parquet')\n",
    "pandas_df.iloc[:1000,:].to_parquet('head.parquet')"
   ]
  },
  {
   "cell_type": "code",
   "execution_count": 8,
   "id": "2e255469-442c-43bc-8395-f92132bec36b",
   "metadata": {},
   "outputs": [
    {
     "data": {
      "text/plain": [
       "hvfhs_license_num               object\n",
       "dispatching_base_num            object\n",
       "originating_base_num            object\n",
       "request_datetime        datetime64[ns]\n",
       "on_scene_datetime       datetime64[ns]\n",
       "pickup_datetime         datetime64[ns]\n",
       "dropoff_datetime        datetime64[ns]\n",
       "PULocationID                     int64\n",
       "DOLocationID                     int64\n",
       "trip_miles                     float64\n",
       "trip_time                        int64\n",
       "base_passenger_fare            float64\n",
       "tolls                          float64\n",
       "bcf                            float64\n",
       "sales_tax                      float64\n",
       "congestion_surcharge           float64\n",
       "airport_fee                    float64\n",
       "tips                           float64\n",
       "driver_pay                     float64\n",
       "shared_request_flag             object\n",
       "shared_match_flag               object\n",
       "access_a_ride_flag              object\n",
       "wav_request_flag                object\n",
       "wav_match_flag                  object\n",
       "dtype: object"
      ]
     },
     "execution_count": 8,
     "metadata": {},
     "output_type": "execute_result"
    }
   ],
   "source": [
    "pandas_df.dtypes"
   ]
  },
  {
   "cell_type": "code",
   "execution_count": 9,
   "id": "b9e20e89-4d36-4c77-93df-596634960f7f",
   "metadata": {},
   "outputs": [],
   "source": [
    "pandas_df = pd.read_parquet('head.parquet')"
   ]
  },
  {
   "cell_type": "code",
   "execution_count": 12,
   "id": "46a5fee2-c0e9-49ab-a6a9-a32efb354f25",
   "metadata": {},
   "outputs": [
    {
     "data": {
      "text/plain": [
       "StructType(List(StructField(hvfhs_license_num,StringType,true),StructField(dispatching_base_num,StringType,true),StructField(originating_base_num,StringType,true),StructField(request_datetime,TimestampType,true),StructField(on_scene_datetime,TimestampType,true),StructField(pickup_datetime,TimestampType,true),StructField(dropoff_datetime,TimestampType,true),StructField(PULocationID,LongType,true),StructField(DOLocationID,LongType,true),StructField(trip_miles,DoubleType,true),StructField(trip_time,LongType,true),StructField(base_passenger_fare,DoubleType,true),StructField(tolls,DoubleType,true),StructField(bcf,DoubleType,true),StructField(sales_tax,DoubleType,true),StructField(congestion_surcharge,DoubleType,true),StructField(airport_fee,DoubleType,true),StructField(tips,DoubleType,true),StructField(driver_pay,DoubleType,true),StructField(shared_request_flag,StringType,true),StructField(shared_match_flag,StringType,true),StructField(access_a_ride_flag,StringType,true),StructField(wav_request_flag,StringType,true),StructField(wav_match_flag,StringType,true)))"
      ]
     },
     "execution_count": 12,
     "metadata": {},
     "output_type": "execute_result"
    }
   ],
   "source": [
    "spark.createDataFrame(pandas_df).schema"
   ]
  },
  {
   "cell_type": "code",
   "execution_count": 6,
   "id": "289f8721-3eb1-4aee-aef0-26924cd12443",
   "metadata": {},
   "outputs": [
    {
     "data": {
      "text/plain": [
       "11908468"
      ]
     },
     "execution_count": 6,
     "metadata": {},
     "output_type": "execute_result"
    }
   ],
   "source": [
    "df.count()"
   ]
  },
  {
   "cell_type": "code",
   "execution_count": 7,
   "id": "f6606445-00cd-4cd7-8569-99a60645b13a",
   "metadata": {},
   "outputs": [
    {
     "data": {
      "text/plain": [
       "DataFrame[hvfhs_license_num: string, dispatching_base_num: string, originating_base_num: string, request_datetime: timestamp, on_scene_datetime: timestamp, pickup_datetime: timestamp, dropoff_datetime: timestamp, PULocationID: bigint, DOLocationID: bigint, trip_miles: double, trip_time: bigint, base_passenger_fare: double, tolls: double, bcf: double, sales_tax: double, congestion_surcharge: double, airport_fee: double, tips: double, driver_pay: double, shared_request_flag: string, shared_match_flag: string, access_a_ride_flag: string, wav_request_flag: string, wav_match_flag: string]"
      ]
     },
     "execution_count": 7,
     "metadata": {},
     "output_type": "execute_result"
    }
   ],
   "source": [
    "df.repartition(24)"
   ]
  },
  {
   "cell_type": "code",
   "execution_count": 8,
   "id": "ba1b9c8e-9685-40f4-ba47-3ae7ed185771",
   "metadata": {},
   "outputs": [
    {
     "name": "stderr",
     "output_type": "stream",
     "text": [
      "                                                                                \r"
     ]
    }
   ],
   "source": [
    "df.write.parquet('fhvhv/2021/01')"
   ]
  },
  {
   "cell_type": "code",
   "execution_count": 10,
   "id": "c1f8f018-fb9f-46cb-9621-707e0f84da6d",
   "metadata": {},
   "outputs": [],
   "source": [
    "df = spark.read.parquet('fhvhv/2021/01')"
   ]
  },
  {
   "cell_type": "code",
   "execution_count": 14,
   "id": "9edfb3aa-d09d-4649-9bdc-830ca27c8b2f",
   "metadata": {},
   "outputs": [
    {
     "name": "stdout",
     "output_type": "stream",
     "text": [
      "root\n",
      " |-- hvfhs_license_num: string (nullable = true)\n",
      " |-- dispatching_base_num: string (nullable = true)\n",
      " |-- originating_base_num: string (nullable = true)\n",
      " |-- request_datetime: timestamp (nullable = true)\n",
      " |-- on_scene_datetime: timestamp (nullable = true)\n",
      " |-- pickup_datetime: timestamp (nullable = true)\n",
      " |-- dropoff_datetime: timestamp (nullable = true)\n",
      " |-- PULocationID: long (nullable = true)\n",
      " |-- DOLocationID: long (nullable = true)\n",
      " |-- trip_miles: double (nullable = true)\n",
      " |-- trip_time: long (nullable = true)\n",
      " |-- base_passenger_fare: double (nullable = true)\n",
      " |-- tolls: double (nullable = true)\n",
      " |-- bcf: double (nullable = true)\n",
      " |-- sales_tax: double (nullable = true)\n",
      " |-- congestion_surcharge: double (nullable = true)\n",
      " |-- airport_fee: double (nullable = true)\n",
      " |-- tips: double (nullable = true)\n",
      " |-- driver_pay: double (nullable = true)\n",
      " |-- shared_request_flag: string (nullable = true)\n",
      " |-- shared_match_flag: string (nullable = true)\n",
      " |-- access_a_ride_flag: string (nullable = true)\n",
      " |-- wav_request_flag: string (nullable = true)\n",
      " |-- wav_match_flag: string (nullable = true)\n",
      "\n"
     ]
    }
   ],
   "source": [
    "df.printSchema()"
   ]
  },
  {
   "cell_type": "code",
   "execution_count": 23,
   "id": "32e26093-1154-4233-8bcd-3625c5a66525",
   "metadata": {},
   "outputs": [
    {
     "name": "stdout",
     "output_type": "stream",
     "text": [
      "+-------------------+-------------------+------------+------------+\n",
      "|    pickup_datetime|   dropoff_datetime|PULocationID|DOLocationID|\n",
      "+-------------------+-------------------+------------+------------+\n",
      "|2021-01-01 09:33:44|2021-01-01 09:49:07|         230|         166|\n",
      "|2021-01-01 09:55:19|2021-01-01 10:18:21|         152|         167|\n",
      "|2021-01-01 09:23:56|2021-01-01 09:38:05|         233|         142|\n",
      "|2021-01-01 09:42:51|2021-01-01 09:45:50|         142|         143|\n",
      "|2021-01-01 09:48:14|2021-01-01 10:08:42|         143|          78|\n",
      "|2021-01-01 09:14:30|2021-01-01 09:50:27|          71|         226|\n",
      "|2021-01-01 09:22:54|2021-01-01 09:30:20|         112|         255|\n",
      "|2021-01-01 09:40:12|2021-01-01 09:53:31|         255|         232|\n",
      "|2021-01-01 09:56:45|2021-01-01 10:17:42|         232|         198|\n",
      "|2021-01-01 09:29:04|2021-01-01 09:36:27|         113|          48|\n",
      "|2021-01-01 09:48:56|2021-01-01 09:59:12|         239|          75|\n",
      "|2021-01-01 09:11:53|2021-01-01 09:18:06|         256|         148|\n",
      "|2021-01-01 09:28:31|2021-01-01 09:41:40|          79|          80|\n",
      "|2021-01-01 09:50:49|2021-01-01 09:55:59|          17|         217|\n",
      "|2021-01-01 09:53:48|2021-01-01 10:11:40|          22|          22|\n",
      "|2021-01-01 09:36:21|2021-01-01 09:57:41|         146|         129|\n",
      "|2021-01-01 09:14:21|2021-01-01 09:21:16|          37|         225|\n",
      "|2021-01-01 09:26:37|2021-01-01 10:08:20|         225|          47|\n",
      "|2021-01-01 09:19:11|2021-01-01 09:33:49|          81|          32|\n",
      "|2021-01-01 09:39:51|2021-01-01 09:58:51|          32|         126|\n",
      "+-------------------+-------------------+------------+------------+\n",
      "only showing top 20 rows\n",
      "\n"
     ]
    }
   ],
   "source": [
    "df.select('pickup_datetime' ,'dropoff_datetime', 'PULocationID', 'DOLocationID')\\\n",
    ".filter(df.hvfhs_license_num == 'HV0003').show()"
   ]
  },
  {
   "cell_type": "code",
   "execution_count": 34,
   "id": "ee7343f4-ecc2-4f24-9dc6-830037ac2ac4",
   "metadata": {},
   "outputs": [],
   "source": [
    "from pyspark.sql import functions as F\n",
    "from pyspark.sql import types"
   ]
  },
  {
   "cell_type": "code",
   "execution_count": 29,
   "id": "4cf2296b-dbdd-42ef-b49b-15eeaadb1adc",
   "metadata": {},
   "outputs": [
    {
     "name": "stdout",
     "output_type": "stream",
     "text": [
      "+-----------+------------+------------+------------+\n",
      "|pickup_date|dropoff_date|PULocationID|DOLocationID|\n",
      "+-----------+------------+------------+------------+\n",
      "| 2021-01-01|  2021-01-01|         230|         166|\n",
      "| 2021-01-01|  2021-01-01|         152|         167|\n",
      "| 2021-01-01|  2021-01-01|         233|         142|\n",
      "| 2021-01-01|  2021-01-01|         142|         143|\n",
      "| 2021-01-01|  2021-01-01|         143|          78|\n",
      "| 2021-01-01|  2021-01-01|          88|          42|\n",
      "| 2021-01-01|  2021-01-01|          42|         151|\n",
      "| 2021-01-01|  2021-01-01|          71|         226|\n",
      "| 2021-01-01|  2021-01-01|         112|         255|\n",
      "| 2021-01-01|  2021-01-01|         255|         232|\n",
      "| 2021-01-01|  2021-01-01|         232|         198|\n",
      "| 2021-01-01|  2021-01-01|         113|          48|\n",
      "| 2021-01-01|  2021-01-01|         239|          75|\n",
      "| 2021-01-01|  2021-01-01|         181|         237|\n",
      "| 2021-01-01|  2021-01-01|         236|          68|\n",
      "| 2021-01-01|  2021-01-01|         256|         148|\n",
      "| 2021-01-01|  2021-01-01|          79|          80|\n",
      "| 2021-01-01|  2021-01-01|          17|         217|\n",
      "| 2021-01-01|  2021-01-01|          62|          29|\n",
      "| 2021-01-01|  2021-01-01|          22|          22|\n",
      "+-----------+------------+------------+------------+\n",
      "only showing top 20 rows\n",
      "\n"
     ]
    }
   ],
   "source": [
    "df\\\n",
    "    .withColumn('pickup_date', F.to_date(df.pickup_datetime)) \\\n",
    "    .withColumn('dropoff_date', F.to_date(df.dropoff_datetime)) \\\n",
    "    .select('pickup_date', 'dropoff_date', 'PULocationID', 'DOLocationID') \\\n",
    "    .show()"
   ]
  },
  {
   "cell_type": "code",
   "execution_count": 31,
   "id": "d4d655f0-caa1-4364-8e2b-05a077cd6c15",
   "metadata": {},
   "outputs": [
    {
     "data": {
      "text/plain": [
       "[Row(hvfhs_license_num='HV0003', dispatching_base_num='B02682', originating_base_num='B02682', request_datetime=datetime.datetime(2021, 1, 1, 9, 28, 9), on_scene_datetime=datetime.datetime(2021, 1, 1, 9, 31, 42), pickup_datetime=datetime.datetime(2021, 1, 1, 9, 33, 44), dropoff_datetime=datetime.datetime(2021, 1, 1, 9, 49, 7), PULocationID=230, DOLocationID=166, trip_miles=5.26, trip_time=923, base_passenger_fare=22.28, tolls=0.0, bcf=0.67, sales_tax=1.98, congestion_surcharge=2.75, airport_fee=None, tips=0.0, driver_pay=14.99, shared_request_flag='N', shared_match_flag='N', access_a_ride_flag=' ', wav_request_flag='N', wav_match_flag='N'),\n",
       " Row(hvfhs_license_num='HV0003', dispatching_base_num='B02682', originating_base_num='B02682', request_datetime=datetime.datetime(2021, 1, 1, 9, 45, 56), on_scene_datetime=datetime.datetime(2021, 1, 1, 9, 55, 19), pickup_datetime=datetime.datetime(2021, 1, 1, 9, 55, 19), dropoff_datetime=datetime.datetime(2021, 1, 1, 10, 18, 21), PULocationID=152, DOLocationID=167, trip_miles=3.65, trip_time=1382, base_passenger_fare=18.36, tolls=0.0, bcf=0.55, sales_tax=1.63, congestion_surcharge=0.0, airport_fee=None, tips=0.0, driver_pay=17.06, shared_request_flag='N', shared_match_flag='N', access_a_ride_flag=' ', wav_request_flag='N', wav_match_flag='N'),\n",
       " Row(hvfhs_license_num='HV0003', dispatching_base_num='B02764', originating_base_num='B02764', request_datetime=datetime.datetime(2021, 1, 1, 9, 21, 15), on_scene_datetime=datetime.datetime(2021, 1, 1, 9, 22, 41), pickup_datetime=datetime.datetime(2021, 1, 1, 9, 23, 56), dropoff_datetime=datetime.datetime(2021, 1, 1, 9, 38, 5), PULocationID=233, DOLocationID=142, trip_miles=3.51, trip_time=849, base_passenger_fare=14.05, tolls=0.0, bcf=0.48, sales_tax=1.25, congestion_surcharge=2.75, airport_fee=None, tips=0.94, driver_pay=12.98, shared_request_flag='N', shared_match_flag='N', access_a_ride_flag=' ', wav_request_flag='N', wav_match_flag='N'),\n",
       " Row(hvfhs_license_num='HV0003', dispatching_base_num='B02764', originating_base_num='B02764', request_datetime=datetime.datetime(2021, 1, 1, 9, 39, 12), on_scene_datetime=datetime.datetime(2021, 1, 1, 9, 42, 37), pickup_datetime=datetime.datetime(2021, 1, 1, 9, 42, 51), dropoff_datetime=datetime.datetime(2021, 1, 1, 9, 45, 50), PULocationID=142, DOLocationID=143, trip_miles=0.74, trip_time=179, base_passenger_fare=7.91, tolls=0.0, bcf=0.24, sales_tax=0.7, congestion_surcharge=2.75, airport_fee=None, tips=0.0, driver_pay=7.41, shared_request_flag='N', shared_match_flag='N', access_a_ride_flag=' ', wav_request_flag='N', wav_match_flag='N'),\n",
       " Row(hvfhs_license_num='HV0003', dispatching_base_num='B02764', originating_base_num='B02764', request_datetime=datetime.datetime(2021, 1, 1, 9, 46, 11), on_scene_datetime=datetime.datetime(2021, 1, 1, 9, 47, 17), pickup_datetime=datetime.datetime(2021, 1, 1, 9, 48, 14), dropoff_datetime=datetime.datetime(2021, 1, 1, 10, 8, 42), PULocationID=143, DOLocationID=78, trip_miles=9.2, trip_time=1228, base_passenger_fare=27.11, tolls=0.0, bcf=0.81, sales_tax=2.41, congestion_surcharge=2.75, airport_fee=None, tips=0.0, driver_pay=22.44, shared_request_flag='N', shared_match_flag='N', access_a_ride_flag=' ', wav_request_flag='N', wav_match_flag='N')]"
      ]
     },
     "execution_count": 31,
     "metadata": {},
     "output_type": "execute_result"
    }
   ],
   "source": [
    "df.head(5)"
   ]
  },
  {
   "cell_type": "code",
   "execution_count": 30,
   "id": "0ca31b2c-e6d9-49e7-b610-6c569449b781",
   "metadata": {},
   "outputs": [],
   "source": [
    "def crazy_stuff(base_num):\n",
    "    num = int(base_num[1:])\n",
    "    if num % 7 == 0:\n",
    "        return f's/{num:03x}'\n",
    "    else:\n",
    "        return f'e/{num:03x}'"
   ]
  },
  {
   "cell_type": "code",
   "execution_count": 32,
   "id": "7a905142-9150-4fe8-b7ae-f9b3227772d3",
   "metadata": {},
   "outputs": [
    {
     "data": {
      "text/plain": [
       "'e/a7a'"
      ]
     },
     "execution_count": 32,
     "metadata": {},
     "output_type": "execute_result"
    }
   ],
   "source": [
    "crazy_stuff('B02682')"
   ]
  },
  {
   "cell_type": "code",
   "execution_count": 35,
   "id": "eaa351a5-02a1-466b-ab00-98e5feca99fa",
   "metadata": {},
   "outputs": [],
   "source": [
    "crazy_stuff_udf = F.udf(crazy_stuff, returnType=types.StringType())"
   ]
  },
  {
   "cell_type": "code",
   "execution_count": 38,
   "id": "6b833514-591e-4ab8-ace9-3e4cb4343b2c",
   "metadata": {},
   "outputs": [
    {
     "name": "stderr",
     "output_type": "stream",
     "text": [
      "                                                                                \r"
     ]
    },
    {
     "name": "stdout",
     "output_type": "stream",
     "text": [
      "+-------+-----------+------------+------------+------------+\n",
      "|base_id|pickup_date|dropoff_date|PULocationID|DOLocationID|\n",
      "+-------+-----------+------------+------------+------------+\n",
      "|  e/a7a| 2021-01-01|  2021-01-01|         230|         166|\n",
      "|  e/a7a| 2021-01-01|  2021-01-01|         152|         167|\n",
      "|  e/acc| 2021-01-01|  2021-01-01|         233|         142|\n",
      "|  e/acc| 2021-01-01|  2021-01-01|         142|         143|\n",
      "|  e/acc| 2021-01-01|  2021-01-01|         143|          78|\n",
      "|  e/9ce| 2021-01-01|  2021-01-01|          88|          42|\n",
      "|  e/9ce| 2021-01-01|  2021-01-01|          42|         151|\n",
      "|  e/acc| 2021-01-01|  2021-01-01|          71|         226|\n",
      "|  e/b3b| 2021-01-01|  2021-01-01|         112|         255|\n",
      "|  e/b3b| 2021-01-01|  2021-01-01|         255|         232|\n",
      "|  e/b3b| 2021-01-01|  2021-01-01|         232|         198|\n",
      "|  s/b13| 2021-01-01|  2021-01-01|         113|          48|\n",
      "|  s/b13| 2021-01-01|  2021-01-01|         239|          75|\n",
      "|  s/af0| 2021-01-01|  2021-01-01|         181|         237|\n",
      "|  s/af0| 2021-01-01|  2021-01-01|         236|          68|\n",
      "|  e/a7a| 2021-01-01|  2021-01-01|         256|         148|\n",
      "|  e/a7a| 2021-01-01|  2021-01-01|          79|          80|\n",
      "|  e/a7a| 2021-01-01|  2021-01-01|          17|         217|\n",
      "|  e/9ce| 2021-01-01|  2021-01-01|          62|          29|\n",
      "|  e/b14| 2021-01-01|  2021-01-01|          22|          22|\n",
      "+-------+-----------+------------+------------+------------+\n",
      "only showing top 20 rows\n",
      "\n"
     ]
    }
   ],
   "source": [
    "df\\\n",
    "    .withColumn('pickup_date', F.to_date(df.pickup_datetime)) \\\n",
    "    .withColumn('dropoff_date', F.to_date(df.dropoff_datetime)) \\\n",
    "    .withColumn('base_id', crazy_stuff_udf(df.dispatching_base_num)) \\\n",
    "    .select('base_id', 'pickup_date', 'dropoff_date', 'PULocationID', 'DOLocationID') \\\n",
    "    .show()"
   ]
  },
  {
   "cell_type": "code",
   "execution_count": 43,
   "id": "6126ff6a-813c-4a54-9256-0479b8cd4e7a",
   "metadata": {},
   "outputs": [],
   "source": [
    "green_df = spark.read.parquet('data/green/')\n",
    "yellow_df = spark.read.parquet('data/yellow/')"
   ]
  },
  {
   "cell_type": "code",
   "execution_count": 44,
   "id": "3fb6c2e7-7e10-423a-91ae-5423ee60d42f",
   "metadata": {},
   "outputs": [
    {
     "data": {
      "text/plain": [
       "(1734176, 24649092)"
      ]
     },
     "execution_count": 44,
     "metadata": {},
     "output_type": "execute_result"
    }
   ],
   "source": [
    "green_df.count(), yellow_df.count()"
   ]
  },
  {
   "cell_type": "code",
   "execution_count": null,
   "id": "d2d742c4-d945-47d7-b251-653f1f79f282",
   "metadata": {},
   "outputs": [],
   "source": []
  }
 ],
 "metadata": {
  "kernelspec": {
   "display_name": "Python 3.8.10 64-bit",
   "language": "python",
   "name": "python3"
  },
  "language_info": {
   "codemirror_mode": {
    "name": "ipython",
    "version": 3
   },
   "file_extension": ".py",
   "mimetype": "text/x-python",
   "name": "python",
   "nbconvert_exporter": "python",
   "pygments_lexer": "ipython3",
   "version": "3.8.10"
  },
  "vscode": {
   "interpreter": {
    "hash": "31f2aee4e71d21fbe5cf8b01ff0e069b9275f58929596ceb00d14d90e3e16cd6"
   }
  }
 },
 "nbformat": 4,
 "nbformat_minor": 5
}
