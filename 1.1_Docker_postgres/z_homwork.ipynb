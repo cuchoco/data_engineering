{
 "cells": [
  {
   "cell_type": "markdown",
   "metadata": {},
   "source": [
    "# Weak 1 homework"
   ]
  },
  {
   "cell_type": "markdown",
   "metadata": {},
   "source": [
    "## Question 1. Count records\n",
    "\n",
    "How many taxi trips were there on January 15?  \n",
    "Consider only trips that started on January 15."
   ]
  },
  {
   "cell_type": "code",
   "execution_count": null,
   "metadata": {
    "vscode": {
     "languageId": "sql"
    }
   },
   "outputs": [],
   "source": [
    "select count(*)\n",
    "from yellow_taxi_trips\n",
    "where date(tpep_pickup_datetime) = '2022-01-15'; \n",
    "\n",
    "/* answer\n",
    "88704\n",
    "*/ "
   ]
  },
  {
   "cell_type": "markdown",
   "metadata": {},
   "source": [
    "## Question 2. Largest tip for each day\n",
    "\n",
    "Find the largest tip for each day. On which day it was the largest tip in January?  \n",
    "Use the pick up time for your calculations.  \n",
    "(note: it's not a typo, it's \"tip\", not \"trip\")"
   ]
  },
  {
   "cell_type": "code",
   "execution_count": null,
   "metadata": {
    "vscode": {
     "languageId": "sql"
    }
   },
   "outputs": [],
   "source": [
    "select date(tpep_pickup_datetime) as day, max(tip_amount) as tip\n",
    "from yellow_taxi_trips\n",
    "group by day\n",
    "order by tip desc ;\n",
    "\n",
    "/* answer\n",
    "\"2022-01-27\"\t240996.3899999877\n",
    "\"2022-01-28\"\t237863.36999999022\n",
    "\"2022-01-21\"\t235308.29999998398\n",
    "*/ "
   ]
  },
  {
   "cell_type": "markdown",
   "metadata": {},
   "source": [
    "## Question 3.Most popular destination\n",
    "\n",
    "What was the most popular destination for passengers picked up in central park on January 14?  \n",
    "Use the pick up time for your calculations.  \n",
    "Enter the zone name (not id). If the zone name is unknown (missing), write \"Unknown\"\n",
    "\n"
   ]
  },
  {
   "cell_type": "code",
   "execution_count": null,
   "metadata": {
    "vscode": {
     "languageId": "sql"
    }
   },
   "outputs": [],
   "source": [
    "SELECT zdo.\"Zone\" as dst, count(zdo.\"Zone\") as count\n",
    "FROM yellow_taxi_trips t, zones zpu, zones zdo\n",
    "WHERE t.\"PULocationID\" = zpu.\"LocationID\" AND t.\"DOLocationID\" = zdo.\"LocationID\" \n",
    "AND date(t.\"tpep_pickup_datetime\") = '2022-01-14' AND zpu.\"Zone\" = 'Central Park'\n",
    "GROUP BY zdo.\"Zone\" \n",
    "ORDER BY count(zdo.\"Zone\") DESC ;\n",
    "\n",
    "/* answer\n",
    "\"Upper East Side South\"\t108\n",
    "*/ "
   ]
  },
  {
   "cell_type": "markdown",
   "metadata": {},
   "source": [
    "## Question 4. Most expensive locations\n",
    "\n",
    "What's the pickup-dropoff pair with the largest average price for a ride (calculated based on total_amount)?  \n",
    "Enter two zone names separated by a slash  \n",
    "\n",
    "For example:  \n",
    "\"Jamaica Bay / Clinton East\"  \n",
    "If any of the zone names are unknown (missing), write \"Unknown\". For example, \"Unknown / Clinton East\"."
   ]
  },
  {
   "cell_type": "code",
   "execution_count": null,
   "metadata": {
    "vscode": {
     "languageId": "sql"
    }
   },
   "outputs": [],
   "source": [
    "SELECT zpu.\"Zone\", zdo.\"Zone\" , avg(total_amount) as price\n",
    "FROM yellow_taxi_trips t, zones zpu, zones zdo\n",
    "WHERE t.\"PULocationID\" = zpu.\"LocationID\" AND t.\"DOLocationID\" = zdo.\"LocationID\" \n",
    "GROUP BY zpu.\"Zone\", zdo.\"Zone\" \n",
    "ORDER BY price desc;\n",
    "\n",
    "-- Marine Park/Floyd Bennett Field / NV"
   ]
  }
 ],
 "metadata": {
  "language_info": {
   "name": "python"
  },
  "orig_nbformat": 4
 },
 "nbformat": 4,
 "nbformat_minor": 2
}
